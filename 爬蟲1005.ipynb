{
  "nbformat": 4,
  "nbformat_minor": 0,
  "metadata": {
    "colab": {
      "provenance": [],
      "authorship_tag": "ABX9TyOmWxRUioHqTxRFmEX+ViyG",
      "include_colab_link": true
    },
    "kernelspec": {
      "name": "python3",
      "display_name": "Python 3"
    },
    "language_info": {
      "name": "python"
    }
  },
  "cells": [
    {
      "cell_type": "markdown",
      "metadata": {
        "id": "view-in-github",
        "colab_type": "text"
      },
      "source": [
        "<a href=\"https://colab.research.google.com/github/wangpouwei/Paul/blob/master/%E7%88%AC%E8%9F%B21005.ipynb\" target=\"_parent\"><img src=\"https://colab.research.google.com/assets/colab-badge.svg\" alt=\"Open In Colab\"/></a>"
      ]
    },
    {
      "cell_type": "code",
      "execution_count": 7,
      "metadata": {
        "colab": {
          "base_uri": "https://localhost:8080/"
        },
        "id": "j1ZUfMvQSbgG",
        "outputId": "5383d2d4-db29-48ee-c0e6-7801ff9d0f11"
      },
      "outputs": [
        {
          "output_type": "stream",
          "name": "stdout",
          "text": [
            "2023-01-08 外交部歡迎立陶宛國會國安及國防事務議員組團訪台，凝聚前線民主國家團結與韌性\n",
            " 2023/01/08\n",
            "第007號新聞稿  \n",
            "  \n",
            "立陶宛國會國安及國防委員會主席卡斯楚那斯(Laurynas Kasčiūnas)及國會友台小組副主席莎卡琳恩(Dovilė Šakalienė)率國安及國防事務跨黨派議員及助理一行9人訂於本(112)年1月9日至14日來台訪問，具體展現前線民主國家團結合作，外交部對此表示誠摯歡迎。  \n",
            "  \n",
            "卡斯楚那斯主席及莎卡琳恩副主席一行是繼去(111)年立陶宛4位次長級行政官員先後率團來訪後，首個國會高階跨黨派議員團，在台期間將晉見總統蔡英文，拜會行政院長蘇貞昌、立法院長游錫堃、國安會秘書長顧立雄，以及陸委會、內政部、國防部等相關部會，並將接受外交部長吳釗燮款宴；訪團另將與我國國防安全智庫，針對當前歐洲及台海局勢、複合式安全威脅及全民國防等議題深入交流、分享經驗，增進彼此的了解與認識。\n",
            "  \n",
            "除卡斯楚那斯主席及莎卡琳恩副主席外，訪團成員也包括歐洲事務委員會副主席歐竹拔(Audronius Ažubalis)、沙普提斯(Eugenijus Sabutis)、羅德琳娜(Edita Rudelienė)及帕卡莉塔(Ieva Pakarklytė)等4位立國跨黨派國會議員。\n",
            " \n",
            "台灣與立陶宛是共享自由民主的價值夥伴，在各領域密切交流合作。去年美國眾議院議長裴洛西(Nancy Pelosi)訪台後，中國藉故在我國周遭海域進行實彈軍演，企圖恫嚇台灣，立陶宛國會曾由議長希米利特(Viktorija Čmilytė-Nielsen)於第一時間表達力挺台灣的立場。此次立國國會國安及國防事務跨黨派議員來訪，不僅持續深化台立雙邊友誼，更進一步鏈接兩國在安全領域的合作關係，充分彰顯前線民主國家團結對抗威權的決心與力量。(E)\n",
            " \n"
          ]
        }
      ],
      "source": [
        "import requests\n",
        "import codecs\n",
        "import csv\n",
        "import io\n",
        "import json\n",
        "from bs4 import BeautifulSoup\n",
        "r1 = requests.get(\"https://www.mofa.gov.tw/News.aspx\",params= {\"n\":\"95\",\n",
        "                                                               \"sms\":\"73\",\n",
        "                                                               \"page\":\"1\",\n",
        "                                                               \"PageSize\":\"20\"})\n",
        "p1 = BeautifulSoup(r1.text,\"html.parser\")\n",
        "# data = p1.find_all(\"td\",{\"class\":\"CCMS_jGridView_td_Class_1 is-left\"})\n",
        "# for d in data:\n",
        "#   print(d.text)\n",
        "# data1 = p1.find_all(\"td\", {\"class\":\"CCMS_jGridView_td_Class_0 is-center\"})\n",
        "# for d1 in data1:\n",
        "#   print(d1.text)\n",
        "data = p1.find_all(\"td\",{\"class\":\"CCMS_jGridView_td_Class_1 is-left\"})\n",
        "for d in data:\n",
        "  print(d.parent.find(\"td\", {\"class\":\"CCMS_jGridView_td_Class_0 is-center\"}).text,d.text)\n",
        "  cont = d.find(\"a\").attrs[\"href\"]\n",
        "  #抓取內文，回圈內爬蟲\n",
        "  r2 = requests.get(\"https://www.mofa.gov.tw/\"+cont)\n",
        "  p2 = BeautifulSoup(r2.text,\"html.parser\")\n",
        "  data2 = p2.find(\"div\", {\"class\":\"p\"})\n",
        "  print(data2.text)\n",
        "  break\n",
        "\n",
        "\n"
      ]
    }
  ]
}