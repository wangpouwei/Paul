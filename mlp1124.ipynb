{
  "nbformat": 4,
  "nbformat_minor": 0,
  "metadata": {
    "colab": {
      "provenance": [],
      "authorship_tag": "ABX9TyPfMQNC1pBqtdJaZXRUJ4Ea",
      "include_colab_link": true
    },
    "kernelspec": {
      "name": "python3",
      "display_name": "Python 3"
    },
    "language_info": {
      "name": "python"
    }
  },
  "cells": [
    {
      "cell_type": "markdown",
      "metadata": {
        "id": "view-in-github",
        "colab_type": "text"
      },
      "source": [
        "<a href=\"https://colab.research.google.com/github/wangpouwei/Paul/blob/master/mlp1124.ipynb\" target=\"_parent\"><img src=\"https://colab.research.google.com/assets/colab-badge.svg\" alt=\"Open In Colab\"/></a>"
      ]
    },
    {
      "cell_type": "code",
      "execution_count": null,
      "metadata": {
        "id": "7Tc-UdSAXrvH",
        "colab": {
          "base_uri": "https://localhost:8080/"
        },
        "outputId": "c9af1d25-7bb2-4f88-f50f-528f4598a795"
      },
      "outputs": [
        {
          "output_type": "stream",
          "name": "stdout",
          "text": [
            "Downloading data from https://storage.googleapis.com/tensorflow/tf-keras-datasets/mnist.npz\n",
            "11490434/11490434 [==============================] - 1s 0us/step\n"
          ]
        }
      ],
      "source": [
        "from tensorflow.keras.datasets.mnist import load_data\n",
        "(x_train, y_train), (x_test, y_test) = load_data()"
      ]
    },
    {
      "cell_type": "code",
      "source": [
        "print(x_train.shape)\n",
        "print(y_train.shape)\n",
        "print(x_test.shape)\n",
        "print(y_test.shape)"
      ],
      "metadata": {
        "colab": {
          "base_uri": "https://localhost:8080/"
        },
        "id": "hMAjzWxRqCi-",
        "outputId": "0d941528-9854-4301-c0b4-fcfd9064b7c4"
      },
      "execution_count": null,
      "outputs": [
        {
          "output_type": "stream",
          "name": "stdout",
          "text": [
            "(60000, 28, 28)\n",
            "(60000,)\n",
            "(10000, 28, 28)\n",
            "(10000,)\n"
          ]
        }
      ]
    },
    {
      "cell_type": "code",
      "source": [
        "import pandas as pd\n",
        "import matplotlib.pyplot as plt\n",
        "\n",
        "#idx for index\n",
        "idx = 0\n",
        "plt.imshow(x_train[idx], cmap=\"gray\")\n",
        "plt.axis(\"off\")\n",
        "pd.DataFrame(x_train[idx])"
      ],
      "metadata": {
        "id": "yOtHsoahqCme"
      },
      "execution_count": null,
      "outputs": []
    },
    {
      "cell_type": "code",
      "source": [
        "#地基(model): Sequential(一層一層), model自由\n",
        "#層(Layer): Dense(全連接層)\n",
        "from tensorflow.keras.models import Sequential\n",
        "from tensorflow.keras,layers "
      ],
      "metadata": {
        "id": "ZkoQL7DcqCqU"
      },
      "execution_count": null,
      "outputs": []
    }
  ]
}