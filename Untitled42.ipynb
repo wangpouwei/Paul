{
  "nbformat": 4,
  "nbformat_minor": 0,
  "metadata": {
    "colab": {
      "provenance": [],
      "authorship_tag": "ABX9TyM/f4WRnXW/Truk9HqEkgeP",
      "include_colab_link": true
    },
    "kernelspec": {
      "name": "python3",
      "display_name": "Python 3"
    },
    "language_info": {
      "name": "python"
    }
  },
  "cells": [
    {
      "cell_type": "markdown",
      "metadata": {
        "id": "view-in-github",
        "colab_type": "text"
      },
      "source": [
        "<a href=\"https://colab.research.google.com/github/wangpouwei/Paul/blob/master/Untitled42.ipynb\" target=\"_parent\"><img src=\"https://colab.research.google.com/assets/colab-badge.svg\" alt=\"Open In Colab\"/></a>"
      ]
    },
    {
      "cell_type": "code",
      "execution_count": 5,
      "metadata": {
        "id": "FcNrlGLW_WVA"
      },
      "outputs": [],
      "source": [
        "import pandas as pd\n",
        "\n",
        "# 讀取Excel檔案\n",
        "# csv = 'CLD_liver_10exp_1960_rank.csv'\n",
        "csv = 'CLD_liver_20exp_1624_rank.csv'\n",
        "# csv = 'CLD_liver_30exp_1440_rank.csv'  # 請將'your_excel_file.xlsx'替換為你的檔案路徑\n",
        "name = csv.split('.')\n",
        "name[0]\n",
        "top = 30\n",
        "df = pd.read_csv(csv,index_col=0)\n",
        "\n",
        "# 建立一個空的DataFrame來存放前30名的基因\n",
        "top_genes = pd.DataFrame()\n",
        "\n",
        "# 取得每次跑出來的名次的前30名基因，並合併到top_genes DataFrame中\n",
        "for column in df.columns:\n",
        "    top_genes[column] = df.nsmallest(top, column)[column].index\n",
        "\n",
        "# 將結果儲存為新的Excel檔案\n",
        "newname = f'{name[0]}_top{top}.xlsx'\n",
        "top_genes.to_excel(newname, index=False)  # 將結果儲存為'top_30_genes.xlsx'檔案\n",
        "\n",
        "# print(\"已建立包含每次前30名基因的新Excel檔案：'top_30_genes.xlsx'\")\n"
      ]
    },
    {
      "cell_type": "code",
      "source": [
        "import pandas as pd\n",
        "\n",
        "# 讀取Excel檔案\n",
        "excel_file = newname  # 請將'your_excel_file.xlsx'替換為你的檔案路徑\n",
        "df = pd.read_excel(excel_file)\n",
        "\n",
        "# 計算每個基因的出現次數\n",
        "gene_counts = df.stack().value_counts()\n",
        "\n",
        "# 選擇出現次數超過40次的基因\n",
        "genes_over_40 = gene_counts[gene_counts > 40].index.tolist()\n",
        "newname2 = newname.split('.')\n",
        "# 將出現次數超過40次的基因寫入txt檔案\n",
        "output_file = f'{newname2[0]}genes_over_40.txt'\n",
        "with open(output_file, 'w') as file:\n",
        "    file.write('\\n'.join(genes_over_40))\n",
        "\n",
        "print(f\"已將出現次數超過40次的基因寫入'{output_file}'\")\n"
      ],
      "metadata": {
        "colab": {
          "base_uri": "https://localhost:8080/"
        },
        "id": "r8yQq0HQ_Den",
        "outputId": "0393c40c-cf67-472a-bc38-22518bdd8968"
      },
      "execution_count": 6,
      "outputs": [
        {
          "output_type": "stream",
          "name": "stdout",
          "text": [
            "已將出現次數超過40次的基因寫入'CLD_liver_20exp_1624_rank_top30genes_over_40.txt'\n"
          ]
        }
      ]
    }
  ]
}