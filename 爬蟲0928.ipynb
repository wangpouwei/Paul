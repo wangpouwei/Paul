{
  "nbformat": 4,
  "nbformat_minor": 0,
  "metadata": {
    "colab": {
      "provenance": [],
      "authorship_tag": "ABX9TyN///4hb6yabHIpHnlZeA6W",
      "include_colab_link": true
    },
    "kernelspec": {
      "name": "python3",
      "display_name": "Python 3"
    },
    "language_info": {
      "name": "python"
    }
  },
  "cells": [
    {
      "cell_type": "markdown",
      "metadata": {
        "id": "view-in-github",
        "colab_type": "text"
      },
      "source": [
        "<a href=\"https://colab.research.google.com/github/wangpouwei/Paul/blob/master/%E7%88%AC%E8%9F%B20928.ipynb\" target=\"_parent\"><img src=\"https://colab.research.google.com/assets/colab-badge.svg\" alt=\"Open In Colab\"/></a>"
      ]
    },
    {
      "cell_type": "code",
      "execution_count": null,
      "metadata": {
        "id": "24pcuzQifw3z"
      },
      "outputs": [],
      "source": [
        "import requests\n",
        "import codecs\n",
        "r1 = requests.get(\"https://www.mol.gov.tw/\")\n",
        "for k,v in r1.headers.items():\n",
        "  print(k,\"=>\",v)\n",
        "#將編碼存成檔案\n",
        "with codecs.open(\"1.html\",\"w\",r1.encoding) as f:\n",
        "  f.write(r1.text)\n"
      ]
    },
    {
      "cell_type": "code",
      "source": [
        "import requests\n",
        "import codecs\n",
        "#?後面要把她單獨寫成字典\n",
        "r1 = requests.get(\"https://www.mol.gov.tw/media/ir4fvjed/%E6%A0%B8%E5%BF%83%E6%94%BF%E7%AD%96%E8%BC%AA%E6%92%AD%E5%9C%96%E7%89%87-%E4%BF%AE-2.jpg\",\n",
        "                  params={\n",
        "                      \"height\":\"500\"\n",
        "                  })\n",
        "\n",
        "#常见的file操作模式：\n",
        "#     read 打开&读取\n",
        "#     –r：打开指定文件，只用于reading。文件的指针在开头。python的默认模式。若无指定文件则报错\n",
        "#     –·rb：以二进制执行的r；\n",
        "#     write 打开&覆盖\n",
        "#     – w：打开指定文件，只用于writing。如果文件存在，则先删除（表里所有的）已有数据，如果不存在，则创建；\n",
        "#     – wb：以二进制执行的w；\n",
        "#     append 打开&添加\n",
        "#     – a：打开指定文件，用于appending。如果文件存在，指针放在结尾，如果文件不存在，则创建；\n",
        "#     –ab：以二进制执行的a；\n",
        "#         b: 是binary二进制的缩写\n",
        "#         截止到目前发现一个特例：with pd.ExcelWriter(\"path+file_name.excel\", mode='a') as writer:如果不存在 “file_name.excel” 的话，并不会创建。\n",
        "#     +\n",
        "#     – r+ / rb+：reading & writing。在r / rb+的基础上多了writing。\n",
        "#     – w+ / wb+：writing & reading。在w+ / wb+的基础上多了reading。\n",
        "#     – a+ / ab+：appending & reading。在a+ / ab+的基础上多了reading。\n",
        "\n",
        "#content是專門for二進位資料\n",
        "with codecs.open(\"1.jpg\",\"wb\") as f:\n",
        "  f.write(r1.content)\n",
        "\n"
      ],
      "metadata": {
        "id": "SzkxeSrGileg"
      },
      "execution_count": 9,
      "outputs": []
    }
  ]
}