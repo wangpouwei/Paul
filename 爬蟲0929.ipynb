{
  "nbformat": 4,
  "nbformat_minor": 0,
  "metadata": {
    "colab": {
      "provenance": [],
      "authorship_tag": "ABX9TyNUuwyDi9wug8ksMUTzXTzE",
      "include_colab_link": true
    },
    "kernelspec": {
      "name": "python3",
      "display_name": "Python 3"
    },
    "language_info": {
      "name": "python"
    }
  },
  "cells": [
    {
      "cell_type": "markdown",
      "metadata": {
        "id": "view-in-github",
        "colab_type": "text"
      },
      "source": [
        "<a href=\"https://colab.research.google.com/github/wangpouwei/Paul/blob/master/%E7%88%AC%E8%9F%B20929.ipynb\" target=\"_parent\"><img src=\"https://colab.research.google.com/assets/colab-badge.svg\" alt=\"Open In Colab\"/></a>"
      ]
    },
    {
      "cell_type": "code",
      "execution_count": null,
      "metadata": {
        "id": "mFTn5UnmRygi"
      },
      "outputs": [],
      "source": [
        "import requests\n",
        "import codecs\n",
        "import csv\n",
        "import io\n",
        "\n",
        "url = \" https://data.taipei/api/dataset/8915d063-c82c-41ed-a480-7c1c4f1d48b7/resource/a875d9ce-7b37-441b-ba60-b5b827cbcf47/download\"\n",
        "r1 = requests.get(url)\n",
        "r1.encoding=\"big5\"\n",
        "data = list(csv.reader(io.StringIO(r1.text)))\n",
        "for i in range(0,6):\n",
        "  print(data[i])"
      ]
    },
    {
      "cell_type": "markdown",
      "source": [],
      "metadata": {
        "id": "GjIvkFGDfTgL"
      }
    },
    {
      "cell_type": "code",
      "source": [
        "import csv\n",
        "import pandas as pd\n",
        "with codecs.open(\"110年臺北市求職求才人數及求供倍數.csv\",'r','big5') as f :\n",
        "  data = list(csv.reader(f))\n",
        "  for i in range(0,6):\n",
        "    print(data[i])\n"
      ],
      "metadata": {
        "id": "2mF5GwHfU9Et"
      },
      "execution_count": null,
      "outputs": []
    },
    {
      "cell_type": "code",
      "source": [
        "import requests\n",
        "import codecs\n",
        "import csv\n",
        "import io\n",
        "import json\n",
        "\n",
        "url = \" https://data.cip.gov.tw/API/v1/dump/datastore/A53000000A-000041-001\"\n",
        "r1 = requests.get(url)\n",
        "# r1.encoding=\"big5\"\n",
        "\n",
        "data = r1.json()\n",
        "\n",
        "for d in data[0]['result']['records']:\n",
        "  print(d['Name']+\":\"+d[\"TravelItinerary\"])"
      ],
      "metadata": {
        "id": "ql471qJaKM8E"
      },
      "execution_count": null,
      "outputs": []
    },
    {
      "cell_type": "code",
      "source": [
        "'''\n",
        "UDM範例\n",
        "'''\n",
        "import requests\n",
        "import codecs\n",
        "import csv\n",
        "import io\n",
        "import json\n",
        "\n",
        "for p in range(0,7):\n",
        "\n",
        "  r1 = requests.get(\"https://udn.com/api/more\"\n",
        "  ,params={\"page\":p,\n",
        "          \"id\":\"\",\n",
        "          \"channelId\":\"1\",\n",
        "          \"cate_id\":\"0\",\n",
        "          \"type\":\"breaknews\",\n",
        "          \"totalRecNo\":\"24609\"})\n",
        "  # r1.encoding=\"big5\"\n",
        "\n",
        "  data = r1.json()\n",
        "  for d in data[\"lists\"]:\n",
        "    print(d[\"time\"][\"date\"],d[\"title\"])"
      ],
      "metadata": {
        "id": "j1RUTn1SKM1L"
      },
      "execution_count": null,
      "outputs": []
    },
    {
      "cell_type": "code",
      "source": [
        "import requests\n",
        "import codecs\n",
        "import csv\n",
        "import io\n",
        "import json\n",
        "r1 = requests.get(\"https://www.twse.com.tw/rsrc/data/zh/home/values.json\",params= {\"_\":\"1672845604268\"})\n",
        "data = r1.json()\n",
        "for d in data[\"ranking\"][\"value\"]:\n",
        "  print(d[\"DATE\"],d[\"NAME\"],d[\"AMOUNT\"])"
      ],
      "metadata": {
        "id": "bBRj8GiEZAWk"
      },
      "execution_count": null,
      "outputs": []
    },
    {
      "cell_type": "code",
      "source": [
        "from re import findall\n",
        "import requests\n",
        "import codecs\n",
        "import csv\n",
        "import io\n",
        "import json\n",
        "from bs4 import BeautifulSoup\n",
        "r1 = requests.get(\"https://rate.bot.com.tw/xrt\",params= {\"Lang\":\"zh-TW\"})\n",
        "p1 = BeautifulSoup(r1.text,\"html.parser\")\n",
        "money = p1.find_all(\"div\",{\"class\":\"visible-phone print_hide\"})\n",
        "value = p1.find_all(\"td\",{\"class\":\"rate-content-cash text-right print_hide\"})\n",
        "for d in money:\n",
        "  print(d.text)\n",
        "for d in value:\n",
        "  print(d.text)\n",
        "\n"
      ],
      "metadata": {
        "id": "EDv3T-Gnx0_E"
      },
      "execution_count": null,
      "outputs": []
    }
  ]
}