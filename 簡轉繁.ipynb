{
  "nbformat": 4,
  "nbformat_minor": 0,
  "metadata": {
    "colab": {
      "provenance": [],
      "collapsed_sections": [],
      "authorship_tag": "ABX9TyNSC8Q0qobrLyOzeMG0u6H3",
      "include_colab_link": true
    },
    "kernelspec": {
      "name": "python3",
      "display_name": "Python 3"
    },
    "language_info": {
      "name": "python"
    }
  },
  "cells": [
    {
      "cell_type": "markdown",
      "metadata": {
        "id": "view-in-github",
        "colab_type": "text"
      },
      "source": [
        "<a href=\"https://colab.research.google.com/github/wangpouwei/Paul/blob/master/%E7%B0%A1%E8%BD%89%E7%B9%81.ipynb\" target=\"_parent\"><img src=\"https://colab.research.google.com/assets/colab-badge.svg\" alt=\"Open In Colab\"/></a>"
      ]
    },
    {
      "cell_type": "code",
      "execution_count": 2,
      "metadata": {
        "colab": {
          "base_uri": "https://localhost:8080/"
        },
        "id": "5sWNhngkumQm",
        "outputId": "a7ccac5e-f9ce-4687-afc2-028533b46c92"
      },
      "outputs": [
        {
          "output_type": "stream",
          "name": "stdout",
          "text": [
            "Looking in indexes: https://pypi.org/simple, https://us-python.pkg.dev/colab-wheels/public/simple/\n",
            "Collecting opencc-python-reimplemented\n",
            "  Downloading opencc-python-reimplemented-0.1.6.tar.gz (484 kB)\n",
            "\u001b[?25l\r\u001b[K     |▊                               | 10 kB 20.0 MB/s eta 0:00:01\r\u001b[K     |█▍                              | 20 kB 22.0 MB/s eta 0:00:01\r\u001b[K     |██                              | 30 kB 28.3 MB/s eta 0:00:01\r\u001b[K     |██▊                             | 40 kB 31.7 MB/s eta 0:00:01\r\u001b[K     |███▍                            | 51 kB 18.6 MB/s eta 0:00:01\r\u001b[K     |████                            | 61 kB 20.5 MB/s eta 0:00:01\r\u001b[K     |████▊                           | 71 kB 21.7 MB/s eta 0:00:01\r\u001b[K     |█████▍                          | 81 kB 23.0 MB/s eta 0:00:01\r\u001b[K     |██████                          | 92 kB 24.7 MB/s eta 0:00:01\r\u001b[K     |██████▊                         | 102 kB 26.5 MB/s eta 0:00:01\r\u001b[K     |███████▍                        | 112 kB 26.5 MB/s eta 0:00:01\r\u001b[K     |████████▏                       | 122 kB 26.5 MB/s eta 0:00:01\r\u001b[K     |████████▉                       | 133 kB 26.5 MB/s eta 0:00:01\r\u001b[K     |█████████▌                      | 143 kB 26.5 MB/s eta 0:00:01\r\u001b[K     |██████████▏                     | 153 kB 26.5 MB/s eta 0:00:01\r\u001b[K     |██████████▉                     | 163 kB 26.5 MB/s eta 0:00:01\r\u001b[K     |███████████▌                    | 174 kB 26.5 MB/s eta 0:00:01\r\u001b[K     |████████████▏                   | 184 kB 26.5 MB/s eta 0:00:01\r\u001b[K     |████████████▉                   | 194 kB 26.5 MB/s eta 0:00:01\r\u001b[K     |█████████████▌                  | 204 kB 26.5 MB/s eta 0:00:01\r\u001b[K     |██████████████▏                 | 215 kB 26.5 MB/s eta 0:00:01\r\u001b[K     |██████████████▉                 | 225 kB 26.5 MB/s eta 0:00:01\r\u001b[K     |███████████████▌                | 235 kB 26.5 MB/s eta 0:00:01\r\u001b[K     |████████████████▎               | 245 kB 26.5 MB/s eta 0:00:01\r\u001b[K     |█████████████████               | 256 kB 26.5 MB/s eta 0:00:01\r\u001b[K     |█████████████████▋              | 266 kB 26.5 MB/s eta 0:00:01\r\u001b[K     |██████████████████▎             | 276 kB 26.5 MB/s eta 0:00:01\r\u001b[K     |███████████████████             | 286 kB 26.5 MB/s eta 0:00:01\r\u001b[K     |███████████████████▋            | 296 kB 26.5 MB/s eta 0:00:01\r\u001b[K     |████████████████████▎           | 307 kB 26.5 MB/s eta 0:00:01\r\u001b[K     |█████████████████████           | 317 kB 26.5 MB/s eta 0:00:01\r\u001b[K     |█████████████████████▋          | 327 kB 26.5 MB/s eta 0:00:01\r\u001b[K     |██████████████████████▎         | 337 kB 26.5 MB/s eta 0:00:01\r\u001b[K     |███████████████████████         | 348 kB 26.5 MB/s eta 0:00:01\r\u001b[K     |███████████████████████▊        | 358 kB 26.5 MB/s eta 0:00:01\r\u001b[K     |████████████████████████▍       | 368 kB 26.5 MB/s eta 0:00:01\r\u001b[K     |█████████████████████████       | 378 kB 26.5 MB/s eta 0:00:01\r\u001b[K     |█████████████████████████▊      | 389 kB 26.5 MB/s eta 0:00:01\r\u001b[K     |██████████████████████████▍     | 399 kB 26.5 MB/s eta 0:00:01\r\u001b[K     |███████████████████████████     | 409 kB 26.5 MB/s eta 0:00:01\r\u001b[K     |███████████████████████████▊    | 419 kB 26.5 MB/s eta 0:00:01\r\u001b[K     |████████████████████████████▍   | 430 kB 26.5 MB/s eta 0:00:01\r\u001b[K     |█████████████████████████████   | 440 kB 26.5 MB/s eta 0:00:01\r\u001b[K     |█████████████████████████████▊  | 450 kB 26.5 MB/s eta 0:00:01\r\u001b[K     |██████████████████████████████▍ | 460 kB 26.5 MB/s eta 0:00:01\r\u001b[K     |███████████████████████████████ | 471 kB 26.5 MB/s eta 0:00:01\r\u001b[K     |███████████████████████████████▉| 481 kB 26.5 MB/s eta 0:00:01\r\u001b[K     |████████████████████████████████| 484 kB 26.5 MB/s \n",
            "\u001b[?25hBuilding wheels for collected packages: opencc-python-reimplemented\n",
            "  Building wheel for opencc-python-reimplemented (setup.py) ... \u001b[?25l\u001b[?25hdone\n",
            "  Created wheel for opencc-python-reimplemented: filename=opencc_python_reimplemented-0.1.6-py2.py3-none-any.whl size=486152 sha256=fac0997299d91fe71885ef40e774188b68bb97f231c74287e68320819e1e1d24\n",
            "  Stored in directory: /root/.cache/pip/wheels/4e/e2/60/d062d260be08788bb389521544a8fc173de9a9a78d6a593344\n",
            "Successfully built opencc-python-reimplemented\n",
            "Installing collected packages: opencc-python-reimplemented\n",
            "Successfully installed opencc-python-reimplemented-0.1.6\n"
          ]
        }
      ],
      "source": [
        "!pip install opencc-python-reimplemented"
      ]
    },
    {
      "cell_type": "code",
      "source": [
        "from opencc import OpenCC\n",
        "cc = OpenCC('s2t')  # convert from Simplified Chinese to Traditional Chinese\n",
        "# can also set conversion by calling set_conversion\n",
        "# cc.set_conversion('s2tw')\n",
        "to_convert = '''从前，有一只蜘蛛，在寺庙的廊庑下静静地结网。由于她经常听到讲经诵法，所以一千年过去了，她变得有些懂得佛理了。\n",
        "　　有一天，佛从这间寺庙路过，看到了这只有佛缘的蜘蛛，于是问她：“你说，什么是最珍贵的？”蜘蛛想了想说：“是得不到和已失去。”佛笑笑，然后走了。\n",
        "　　就这样，一千年过去了，蜘蛛一直被香火熏陶着，变得更深沉更知佛法。有一天，佛又路过这个寺庙，于是又问她：“现在你修行加深了，你认为什么是最珍贵的呢？”蜘蛛不假思索地说：“还是得不到和已失去。”佛又微笑着走了。\n",
        "　　又是一个漫长的一千年，蜘蛛变得更加悟道，她每天都坐在网上深深地思索。在这个千年结束的某一天，一阵大风吹过，一颗露珠落在了蛛网上，蜘蛛看见那晶莹剔透的露珠，心内禁不住欢悦起来，呵，那露珠是多么美好而又纯净，反射着太阳的光华，蜘蛛入迷地看着这滴露珠，充满了爱的欢欣。可是，就在她欣赏愉悦的时候，又是一阵大风吹来，露珠瞬间就被刮走了，消失得无影无踪。'''\n",
        "converted = cc.convert(to_convert)\n",
        "converted"
      ],
      "metadata": {
        "colab": {
          "base_uri": "https://localhost:8080/",
          "height": 105
        },
        "id": "LaAUKmojwx0H",
        "outputId": "042dcd48-1a2e-4f21-c129-82001a5780db"
      },
      "execution_count": 5,
      "outputs": [
        {
          "output_type": "execute_result",
          "data": {
            "text/plain": [
              "'從前，有一隻蜘蛛，在寺廟的廊廡下靜靜地結網。由於她經常聽到講經誦法，所以一千年過去了，她變得有些懂得佛理了。\\n\\u3000\\u3000有一天，佛從這間寺廟路過，看到了這隻有佛緣的蜘蛛，於是問她：“你說，什麼是最珍貴的？”蜘蛛想了想說：“是得不到和已失去。”佛笑笑，然後走了。\\n\\u3000\\u3000就這樣，一千年過去了，蜘蛛一直被香火薰陶着，變得更深沉更知佛法。有一天，佛又路過這個寺廟，於是又問她：“現在你修行加深了，你認爲什麼是最珍貴的呢？”蜘蛛不假思索地說：“還是得不到和已失去。”佛又微笑着走了。\\n\\u3000\\u3000又是一個漫長的一千年，蜘蛛變得更加悟道，她每天都坐在網上深深地思索。在這個千年結束的某一天，一陣大風吹過，一顆露珠落在了蛛網上，蜘蛛看見那晶瑩剔透的露珠，心內禁不住歡悅起來，呵，那露珠是多麼美好而又純淨，反射着太陽的光華，蜘蛛入迷地看着這滴露珠，充滿了愛的歡欣。可是，就在她欣賞愉悅的時候，又是一陣大風吹來，露珠瞬間就被颳走了，消失得無影無蹤。'"
            ],
            "application/vnd.google.colaboratory.intrinsic+json": {
              "type": "string"
            }
          },
          "metadata": {},
          "execution_count": 5
        }
      ]
    }
  ]
}